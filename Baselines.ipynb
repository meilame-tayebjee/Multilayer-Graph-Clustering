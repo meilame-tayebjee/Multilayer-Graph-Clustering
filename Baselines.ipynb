{
 "cells": [
  {
   "cell_type": "markdown",
   "metadata": {},
   "source": [
    "# Implementation of baselines\n",
    "\n",
    "#### See Section VI-B"
   ]
  },
  {
   "cell_type": "code",
   "execution_count": 1,
   "metadata": {},
   "outputs": [
    {
     "name": "stderr",
     "output_type": "stream",
     "text": [
      "/Users/Meilame/opt/anaconda3/lib/python3.8/site-packages/tslearn/clustering/kmeans.py:20: UserWarning: Scikit-learn <0.24 will be deprecated in a future release of tslearn\n",
      "  warnings.warn(\n"
     ]
    }
   ],
   "source": [
    "import numpy as np\n",
    "from utils import computeDegreeMatrix, spectralClustering\n",
    "from sklearn.cluster import SpectralClustering\n",
    "from tslearn.clustering import KernelKMeans\n",
    "import kernel_kmeans"
   ]
  },
  {
   "cell_type": "code",
   "execution_count": 2,
   "metadata": {},
   "outputs": [],
   "source": [
    "matrix = np.array([\n",
    "    [[1,1,1,1,0,0,0,0],\n",
    "     [1,1,1,1,0,0,0,0],\n",
    "     [1,1,1,0,0,0,0,0],\n",
    "     [1,1,1,1,1,0,0,0],\n",
    "     [0,0,0,1,1,1,1,1],\n",
    "     [0,0,0,0,1,1,1,1],\n",
    "     [0,0,0,0,1,1,1,1],\n",
    "     [0,0,0,0,1,1,1,1]],\n",
    "\n",
    "    [[0,0,1,1,0,0,0,0],\n",
    "     [1,1,1,1,0,0,0,0],\n",
    "     [1,1,1,1,0,0,0,0],\n",
    "     [1,1,1,1,1,0,0,0],\n",
    "     [0,0,0,1,1,1,1,1],\n",
    "     [0,0,0,0,1,1,1,1],\n",
    "     [0,0,0,0,1,1,1,1],\n",
    "     [0,0,0,0,1,1,1,1]],\n",
    "\n",
    "    [[0,0,1,1,0,0,0,0],\n",
    "     [1,1,1,1,0,0,0,0],\n",
    "     [1,1,1,1,0,0,0,0],\n",
    "     [1,1,1,1,1,0,0,0],\n",
    "     [0,0,0,1,1,1,1,1],\n",
    "     [0,0,0,0,1,1,1,1],\n",
    "     [0,0,0,0,1,1,0,0],\n",
    "     [0,0,0,0,1,1,1,1]]  ])"
   ]
  },
  {
   "cell_type": "markdown",
   "metadata": {},
   "source": [
    "## SC-SUM"
   ]
  },
  {
   "cell_type": "code",
   "execution_count": 3,
   "metadata": {},
   "outputs": [],
   "source": [
    "def SC_SUM(adj_matrix, k, normalized = False):\n",
    "    \"\"\"\n",
    "    Spectral Clustering with summation of adjacency matrices\n",
    "    See Eq 15 of the paper\n",
    "\n",
    "    Parameters\n",
    "    ----------\n",
    "    adj_matrix : numpy array of shape (M,n,n)\n",
    "    k (int): number of target clusters\n",
    "    normalized (bool): whether to use normalized adjacency matrces\n",
    "\n",
    "    Returns\n",
    "    -------\n",
    "    numpy array of shape (n,k) : cluster assignment matrix\n",
    "    \"\"\"\n",
    "    M,n,_ = adj_matrix.shape # M is the number of clusters, n is the number of nodes\n",
    "    \n",
    "    if normalized:\n",
    "        W = np.zeros((n,n))\n",
    "        for i in range(M):\n",
    "            W_i = adj_matrix[i,:,:]\n",
    "            D_i = computeDegreeMatrix(W_i)\n",
    "            W += (np.sqrt(np.linalg.inv(D_i))) @ W_i @ (np.sqrt(np.linalg.inv(D_i)))\n",
    "\n",
    "        return spectralClustering(W, k)\n",
    "\n",
    "\n",
    "    else:\n",
    "        W = np.sum(adj_matrix, axis=0) #summation of the M adjacency matrices\n",
    "        return spectralClustering(W, k)  "
   ]
  },
  {
   "cell_type": "code",
   "execution_count": 4,
   "metadata": {},
   "outputs": [
    {
     "data": {
      "text/plain": [
       "array([0, 0, 0, 0, 1, 1, 1, 1], dtype=int32)"
      ]
     },
     "execution_count": 4,
     "metadata": {},
     "output_type": "execute_result"
    }
   ],
   "source": [
    "SC_SUM(matrix, 2, normalized = False)"
   ]
  },
  {
   "cell_type": "markdown",
   "metadata": {},
   "source": [
    "## K-KMeans"
   ]
  },
  {
   "cell_type": "code",
   "execution_count": 5,
   "metadata": {},
   "outputs": [],
   "source": [
    "def K_KMeans(adj_matrix, d, k):\n",
    "    \"\"\"\n",
    "    Kernel KMeans applied on the summation of spectral kernels of the adjacency matrices\n",
    "    See Eq 17 of the paper\n",
    "\n",
    "    Parameters\n",
    "    ----------\n",
    "    adj_matrix : numpy array of shape (M,n,n)\n",
    "    d (int): number of eigenvectors to use\n",
    "    k (int): number of target clusters\n",
    "\n",
    "    Returns\n",
    "    -------\n",
    "    numpy array of shape (n,k) : cluster assignment matrix\n",
    "    \"\"\"\n",
    "    M, n, _ = adj_matrix.shape\n",
    "\n",
    "    W = np.zeros((n,n))\n",
    "    for i in range(M):\n",
    "        W_i = adj_matrix[i,:,:]\n",
    "        D_i = computeDegreeMatrix(W_i)\n",
    "        Lsym_i = (np.sqrt(np.linalg.inv(D_i))) @ (D_i - W_i) @ (np.sqrt(np.linalg.inv(D_i)))\n",
    "        eigenvalues, eigenvectors = np.linalg.eig(Lsym_i)\n",
    "        sorted_eigvecs = eigenvectors[:,np.argsort(eigenvalues)[:d]] #shape (n,d)\n",
    "\n",
    "        K_i = np.zeros((n,n))\n",
    "        for j in range(d):\n",
    "            K_i += sorted_eigvecs[:,j] @ sorted_eigvecs[:,j].T\n",
    "        \n",
    "        W += K_i\n",
    "    \n",
    "    return SpectralClustering(n_clusters=k).fit(W).labels_\n",
    "    #return KernelKMeans(n_clusters=k, kernel=\"rbf\").fit(W).labels_\n",
    "    #return kernel_kmeans.KernelKMeans(n_clusters = k).fit(W).labels_\n",
    "    \n",
    "\n"
   ]
  },
  {
   "cell_type": "code",
   "execution_count": 6,
   "metadata": {},
   "outputs": [
    {
     "name": "stderr",
     "output_type": "stream",
     "text": [
      "/Users/Meilame/opt/anaconda3/lib/python3.8/site-packages/sklearn/cluster/_spectral.py:484: UserWarning: The spectral clustering API has changed. ``fit``now constructs an affinity matrix from data. To use a custom affinity matrix, set ``affinity=precomputed``.\n",
      "  warnings.warn(\"The spectral clustering API has changed. ``fit``\"\n"
     ]
    },
    {
     "data": {
      "text/plain": [
       "array([0, 1, 0, 1, 0, 0, 0, 0], dtype=int32)"
      ]
     },
     "execution_count": 6,
     "metadata": {},
     "output_type": "execute_result"
    }
   ],
   "source": [
    "K_KMeans(matrix, 8, 2)"
   ]
  },
  {
   "cell_type": "markdown",
   "metadata": {},
   "source": [
    "## SC-AL"
   ]
  },
  {
   "cell_type": "code",
   "execution_count": 7,
   "metadata": {},
   "outputs": [],
   "source": [
    "def SC_AL(adj_matrix, k):\n",
    "    \"\"\"\n",
    "    Spectral Clustering with average of Laplacian matrices\n",
    "    See Eq 18 of the paper\n",
    "\n",
    "    Parameters\n",
    "    ----------\n",
    "    adj_matrix : numpy array of shape (M,n,n)\n",
    "    k (int): number of target clusters\n",
    "\n",
    "    Returns\n",
    "    -------\n",
    "    numpy array of shape (n,k) : cluster assignment matrix\n",
    "    \"\"\"\n",
    "    \n",
    "    M,n,_ = adj_matrix.shape # M is the number of clusters, n is the number of nodes\n",
    "\n",
    "    #Computation of the average on the M Laplacian matrices\n",
    "    W = np.zeros((n,n))\n",
    "    for i in range(M):\n",
    "        W_i = adj_matrix[i,:,:]\n",
    "        D_i = computeDegreeMatrix(W_i)\n",
    "        Lrw_i = np.linalg.inv(D_i) @ (D_i - W_i)\n",
    "        W += Lrw_i\n",
    "    W /= M\n",
    "\n",
    "    return spectralClustering(W, k)"
   ]
  },
  {
   "cell_type": "code",
   "execution_count": 8,
   "metadata": {},
   "outputs": [
    {
     "data": {
      "text/plain": [
       "array([0, 1, 1, 1, 1, 1, 0, 1], dtype=int32)"
      ]
     },
     "execution_count": 8,
     "metadata": {},
     "output_type": "execute_result"
    }
   ],
   "source": [
    "SC_AL(matrix, 2)"
   ]
  }
 ],
 "metadata": {
  "kernelspec": {
   "display_name": "base",
   "language": "python",
   "name": "python3"
  },
  "language_info": {
   "codemirror_mode": {
    "name": "ipython",
    "version": 3
   },
   "file_extension": ".py",
   "mimetype": "text/x-python",
   "name": "python",
   "nbconvert_exporter": "python",
   "pygments_lexer": "ipython3",
   "version": "3.8.5"
  }
 },
 "nbformat": 4,
 "nbformat_minor": 2
}
